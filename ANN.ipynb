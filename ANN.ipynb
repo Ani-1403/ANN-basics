{
  "nbformat": 4,
  "nbformat_minor": 0,
  "metadata": {
    "colab": {
      "provenance": []
    },
    "kernelspec": {
      "name": "python3",
      "display_name": "Python 3"
    },
    "language_info": {
      "name": "python"
    },
    "accelerator": "GPU",
    "gpuClass": "standard"
  },
  "cells": [
    {
      "cell_type": "code",
      "execution_count": 1,
      "metadata": {
        "id": "Esg0Ve3g8QBH"
      },
      "outputs": [],
      "source": [
        "import os\n",
        "import numpy as np\n",
        "import pandas as pd\n",
        "from keras.models import Sequential\n",
        "from keras.layers import Dense\n",
        "from sklearn.preprocessing import MinMaxScaler\n",
        "from keras.callbacks import ModelCheckpoint, CSVLogger\n"
      ]
    },
    {
      "cell_type": "code",
      "source": [
        "path=os.path.join(os.getcwd(),'drive','MyDrive','Data_sets')\n",
        "os.listdir(path)\n",
        "file_name=os.path.join(path,os.listdir(path)[1])\n",
        "df = pd.read_csv(file_name)\n"
      ],
      "metadata": {
        "id": "dTFNoi-aNrgj"
      },
      "execution_count": 2,
      "outputs": []
    },
    {
      "cell_type": "code",
      "source": [
        "model_path=os.path.join(os.getcwd(),'drive','MyDrive','Colab Notebooks','model')\n",
        "if not os.path.exists(model_path):\n",
        "  os.makedirs(model_path)\n",
        "\n",
        "log_path=os.path.join(os.getcwd(),'drive','MyDrive','Colab Notebooks','logger')\n",
        "if not os.path.exists(log_path):\n",
        "  os.makedirs(log_path)"
      ],
      "metadata": {
        "id": "HRYlLBE21zho"
      },
      "execution_count": 3,
      "outputs": []
    },
    {
      "cell_type": "markdown",
      "source": [],
      "metadata": {
        "id": "AHRyq7Z83zt2"
      }
    },
    {
      "cell_type": "code",
      "source": [
        "df.shape"
      ],
      "metadata": {
        "colab": {
          "base_uri": "https://localhost:8080/"
        },
        "id": "VSR7bHKv82tZ",
        "outputId": "be9b11a5-6a7e-48b7-dc8b-a7b73f87b0b8"
      },
      "execution_count": 4,
      "outputs": [
        {
          "output_type": "execute_result",
          "data": {
            "text/plain": [
              "(768, 9)"
            ]
          },
          "metadata": {},
          "execution_count": 4
        }
      ]
    },
    {
      "cell_type": "code",
      "source": [
        "X,y=np.asarray(df.iloc[::,0:8]),np.asarray(df['Outcome'])\n",
        "scaler=MinMaxScaler()\n",
        "X_scaled=scaler.fit_transform(X)"
      ],
      "metadata": {
        "id": "-ebipMcL-LTM"
      },
      "execution_count": 5,
      "outputs": []
    },
    {
      "cell_type": "code",
      "source": [
        "df.head()"
      ],
      "metadata": {
        "colab": {
          "base_uri": "https://localhost:8080/",
          "height": 206
        },
        "id": "hHF3PZ7F-qjV",
        "outputId": "66529962-ae76-4149-96a6-7cd791d8c9a6"
      },
      "execution_count": 6,
      "outputs": [
        {
          "output_type": "execute_result",
          "data": {
            "text/plain": [
              "   Pregnancies  Glucose  BloodPressure  SkinThickness  Insulin   BMI  \\\n",
              "0            6      148             72             35        0  33.6   \n",
              "1            1       85             66             29        0  26.6   \n",
              "2            8      183             64              0        0  23.3   \n",
              "3            1       89             66             23       94  28.1   \n",
              "4            0      137             40             35      168  43.1   \n",
              "\n",
              "   DiabetesPedigreeFunction  Age  Outcome  \n",
              "0                     0.627   50        1  \n",
              "1                     0.351   31        0  \n",
              "2                     0.672   32        1  \n",
              "3                     0.167   21        0  \n",
              "4                     2.288   33        1  "
            ],
            "text/html": [
              "\n",
              "  <div id=\"df-687bea8b-4c65-43d7-8ce9-dec259feb61c\">\n",
              "    <div class=\"colab-df-container\">\n",
              "      <div>\n",
              "<style scoped>\n",
              "    .dataframe tbody tr th:only-of-type {\n",
              "        vertical-align: middle;\n",
              "    }\n",
              "\n",
              "    .dataframe tbody tr th {\n",
              "        vertical-align: top;\n",
              "    }\n",
              "\n",
              "    .dataframe thead th {\n",
              "        text-align: right;\n",
              "    }\n",
              "</style>\n",
              "<table border=\"1\" class=\"dataframe\">\n",
              "  <thead>\n",
              "    <tr style=\"text-align: right;\">\n",
              "      <th></th>\n",
              "      <th>Pregnancies</th>\n",
              "      <th>Glucose</th>\n",
              "      <th>BloodPressure</th>\n",
              "      <th>SkinThickness</th>\n",
              "      <th>Insulin</th>\n",
              "      <th>BMI</th>\n",
              "      <th>DiabetesPedigreeFunction</th>\n",
              "      <th>Age</th>\n",
              "      <th>Outcome</th>\n",
              "    </tr>\n",
              "  </thead>\n",
              "  <tbody>\n",
              "    <tr>\n",
              "      <th>0</th>\n",
              "      <td>6</td>\n",
              "      <td>148</td>\n",
              "      <td>72</td>\n",
              "      <td>35</td>\n",
              "      <td>0</td>\n",
              "      <td>33.6</td>\n",
              "      <td>0.627</td>\n",
              "      <td>50</td>\n",
              "      <td>1</td>\n",
              "    </tr>\n",
              "    <tr>\n",
              "      <th>1</th>\n",
              "      <td>1</td>\n",
              "      <td>85</td>\n",
              "      <td>66</td>\n",
              "      <td>29</td>\n",
              "      <td>0</td>\n",
              "      <td>26.6</td>\n",
              "      <td>0.351</td>\n",
              "      <td>31</td>\n",
              "      <td>0</td>\n",
              "    </tr>\n",
              "    <tr>\n",
              "      <th>2</th>\n",
              "      <td>8</td>\n",
              "      <td>183</td>\n",
              "      <td>64</td>\n",
              "      <td>0</td>\n",
              "      <td>0</td>\n",
              "      <td>23.3</td>\n",
              "      <td>0.672</td>\n",
              "      <td>32</td>\n",
              "      <td>1</td>\n",
              "    </tr>\n",
              "    <tr>\n",
              "      <th>3</th>\n",
              "      <td>1</td>\n",
              "      <td>89</td>\n",
              "      <td>66</td>\n",
              "      <td>23</td>\n",
              "      <td>94</td>\n",
              "      <td>28.1</td>\n",
              "      <td>0.167</td>\n",
              "      <td>21</td>\n",
              "      <td>0</td>\n",
              "    </tr>\n",
              "    <tr>\n",
              "      <th>4</th>\n",
              "      <td>0</td>\n",
              "      <td>137</td>\n",
              "      <td>40</td>\n",
              "      <td>35</td>\n",
              "      <td>168</td>\n",
              "      <td>43.1</td>\n",
              "      <td>2.288</td>\n",
              "      <td>33</td>\n",
              "      <td>1</td>\n",
              "    </tr>\n",
              "  </tbody>\n",
              "</table>\n",
              "</div>\n",
              "      <button class=\"colab-df-convert\" onclick=\"convertToInteractive('df-687bea8b-4c65-43d7-8ce9-dec259feb61c')\"\n",
              "              title=\"Convert this dataframe to an interactive table.\"\n",
              "              style=\"display:none;\">\n",
              "        \n",
              "  <svg xmlns=\"http://www.w3.org/2000/svg\" height=\"24px\"viewBox=\"0 0 24 24\"\n",
              "       width=\"24px\">\n",
              "    <path d=\"M0 0h24v24H0V0z\" fill=\"none\"/>\n",
              "    <path d=\"M18.56 5.44l.94 2.06.94-2.06 2.06-.94-2.06-.94-.94-2.06-.94 2.06-2.06.94zm-11 1L8.5 8.5l.94-2.06 2.06-.94-2.06-.94L8.5 2.5l-.94 2.06-2.06.94zm10 10l.94 2.06.94-2.06 2.06-.94-2.06-.94-.94-2.06-.94 2.06-2.06.94z\"/><path d=\"M17.41 7.96l-1.37-1.37c-.4-.4-.92-.59-1.43-.59-.52 0-1.04.2-1.43.59L10.3 9.45l-7.72 7.72c-.78.78-.78 2.05 0 2.83L4 21.41c.39.39.9.59 1.41.59.51 0 1.02-.2 1.41-.59l7.78-7.78 2.81-2.81c.8-.78.8-2.07 0-2.86zM5.41 20L4 18.59l7.72-7.72 1.47 1.35L5.41 20z\"/>\n",
              "  </svg>\n",
              "      </button>\n",
              "      \n",
              "  <style>\n",
              "    .colab-df-container {\n",
              "      display:flex;\n",
              "      flex-wrap:wrap;\n",
              "      gap: 12px;\n",
              "    }\n",
              "\n",
              "    .colab-df-convert {\n",
              "      background-color: #E8F0FE;\n",
              "      border: none;\n",
              "      border-radius: 50%;\n",
              "      cursor: pointer;\n",
              "      display: none;\n",
              "      fill: #1967D2;\n",
              "      height: 32px;\n",
              "      padding: 0 0 0 0;\n",
              "      width: 32px;\n",
              "    }\n",
              "\n",
              "    .colab-df-convert:hover {\n",
              "      background-color: #E2EBFA;\n",
              "      box-shadow: 0px 1px 2px rgba(60, 64, 67, 0.3), 0px 1px 3px 1px rgba(60, 64, 67, 0.15);\n",
              "      fill: #174EA6;\n",
              "    }\n",
              "\n",
              "    [theme=dark] .colab-df-convert {\n",
              "      background-color: #3B4455;\n",
              "      fill: #D2E3FC;\n",
              "    }\n",
              "\n",
              "    [theme=dark] .colab-df-convert:hover {\n",
              "      background-color: #434B5C;\n",
              "      box-shadow: 0px 1px 3px 1px rgba(0, 0, 0, 0.15);\n",
              "      filter: drop-shadow(0px 1px 2px rgba(0, 0, 0, 0.3));\n",
              "      fill: #FFFFFF;\n",
              "    }\n",
              "  </style>\n",
              "\n",
              "      <script>\n",
              "        const buttonEl =\n",
              "          document.querySelector('#df-687bea8b-4c65-43d7-8ce9-dec259feb61c button.colab-df-convert');\n",
              "        buttonEl.style.display =\n",
              "          google.colab.kernel.accessAllowed ? 'block' : 'none';\n",
              "\n",
              "        async function convertToInteractive(key) {\n",
              "          const element = document.querySelector('#df-687bea8b-4c65-43d7-8ce9-dec259feb61c');\n",
              "          const dataTable =\n",
              "            await google.colab.kernel.invokeFunction('convertToInteractive',\n",
              "                                                     [key], {});\n",
              "          if (!dataTable) return;\n",
              "\n",
              "          const docLinkHtml = 'Like what you see? Visit the ' +\n",
              "            '<a target=\"_blank\" href=https://colab.research.google.com/notebooks/data_table.ipynb>data table notebook</a>'\n",
              "            + ' to learn more about interactive tables.';\n",
              "          element.innerHTML = '';\n",
              "          dataTable['output_type'] = 'display_data';\n",
              "          await google.colab.output.renderOutput(dataTable, element);\n",
              "          const docLink = document.createElement('div');\n",
              "          docLink.innerHTML = docLinkHtml;\n",
              "          element.appendChild(docLink);\n",
              "        }\n",
              "      </script>\n",
              "    </div>\n",
              "  </div>\n",
              "  "
            ]
          },
          "metadata": {},
          "execution_count": 6
        }
      ]
    },
    {
      "cell_type": "code",
      "source": [
        "from keras.engine.base_layer import initializers\n",
        "initializer=initializers.RandomNormal(mean=0.0, stddev=0.05, seed=None)\n",
        "\n",
        "\n",
        "model = Sequential()\n",
        "model.add(Dense(16, input_dim=8, kernel_initializer=initializer, activation= 'relu' ))\n",
        "model.add(Dense(32, kernel_initializer=initializer , activation= 'relu' ))\n",
        "model.add(Dense(1, kernel_initializer=initializer, activation= 'sigmoid' ))\n"
      ],
      "metadata": {
        "id": "fz_S1Unv_Nk2"
      },
      "execution_count": 7,
      "outputs": []
    },
    {
      "cell_type": "code",
      "source": [
        "model.compile(loss= 'binary_crossentropy' , optimizer= 'adam' , metrics=[ 'accuracy' ])"
      ],
      "metadata": {
        "id": "R7hgBgyZDLxw"
      },
      "execution_count": 9,
      "outputs": []
    },
    {
      "cell_type": "code",
      "source": [
        "model.summary()"
      ],
      "metadata": {
        "colab": {
          "base_uri": "https://localhost:8080/"
        },
        "id": "5HCkki5rCTwX",
        "outputId": "18e55d1d-4235-4b80-da88-792a54a9b899"
      },
      "execution_count": 10,
      "outputs": [
        {
          "output_type": "stream",
          "name": "stdout",
          "text": [
            "Model: \"sequential\"\n",
            "_________________________________________________________________\n",
            " Layer (type)                Output Shape              Param #   \n",
            "=================================================================\n",
            " dense (Dense)               (None, 16)                144       \n",
            "                                                                 \n",
            " dense_1 (Dense)             (None, 32)                544       \n",
            "                                                                 \n",
            " dense_2 (Dense)             (None, 1)                 33        \n",
            "                                                                 \n",
            "=================================================================\n",
            "Total params: 721\n",
            "Trainable params: 721\n",
            "Non-trainable params: 0\n",
            "_________________________________________________________________\n"
          ]
        }
      ]
    },
    {
      "cell_type": "code",
      "source": [
        "checkpoint=ModelCheckpoint(filepath=os.path.join(model_path,'model.h5'),monitor='loss',save_best_only=True,verbose=1)\n",
        "csv_logger=CSVLogger(os.path.join(log_path,'logfile.csv'),separator=',')\n",
        "callback_list=[checkpoint,csv_logger]"
      ],
      "metadata": {
        "id": "fS7RYEBJ4EcE"
      },
      "execution_count": 11,
      "outputs": []
    },
    {
      "cell_type": "code",
      "source": [
        "model.fit(X_scaled, y,epochs=20, batch_size=10,callbacks=callback_list)"
      ],
      "metadata": {
        "colab": {
          "base_uri": "https://localhost:8080/"
        },
        "id": "tLTALNDfE2r2",
        "outputId": "df919eda-cccb-40da-839d-a6092291b64a"
      },
      "execution_count": 12,
      "outputs": [
        {
          "output_type": "stream",
          "name": "stdout",
          "text": [
            "Epoch 1/20\n",
            "75/77 [============================>.] - ETA: 0s - loss: 0.6827 - accuracy: 0.6520\n",
            "Epoch 1: loss improved from inf to 0.68257, saving model to /content/drive/MyDrive/Colab Notebooks/model/model.h5\n",
            "77/77 [==============================] - 4s 24ms/step - loss: 0.6826 - accuracy: 0.6510\n",
            "Epoch 2/20\n",
            "72/77 [===========================>..] - ETA: 0s - loss: 0.6570 - accuracy: 0.6514\n",
            "Epoch 2: loss improved from 0.68257 to 0.65685, saving model to /content/drive/MyDrive/Colab Notebooks/model/model.h5\n",
            "77/77 [==============================] - 0s 3ms/step - loss: 0.6569 - accuracy: 0.6510\n",
            "Epoch 3/20\n",
            "60/77 [======================>.......] - ETA: 0s - loss: 0.6535 - accuracy: 0.6417\n",
            "Epoch 3: loss improved from 0.65685 to 0.64839, saving model to /content/drive/MyDrive/Colab Notebooks/model/model.h5\n",
            "77/77 [==============================] - 0s 3ms/step - loss: 0.6484 - accuracy: 0.6510\n",
            "Epoch 4/20\n",
            "74/77 [===========================>..] - ETA: 0s - loss: 0.6388 - accuracy: 0.6514\n",
            "Epoch 4: loss improved from 0.64839 to 0.63854, saving model to /content/drive/MyDrive/Colab Notebooks/model/model.h5\n",
            "77/77 [==============================] - 0s 3ms/step - loss: 0.6385 - accuracy: 0.6510\n",
            "Epoch 5/20\n",
            "60/77 [======================>.......] - ETA: 0s - loss: 0.6318 - accuracy: 0.6433\n",
            "Epoch 5: loss improved from 0.63854 to 0.62425, saving model to /content/drive/MyDrive/Colab Notebooks/model/model.h5\n",
            "77/77 [==============================] - 0s 3ms/step - loss: 0.6242 - accuracy: 0.6510\n",
            "Epoch 6/20\n",
            "70/77 [==========================>...] - ETA: 0s - loss: 0.6037 - accuracy: 0.6543\n",
            "Epoch 6: loss improved from 0.62425 to 0.60305, saving model to /content/drive/MyDrive/Colab Notebooks/model/model.h5\n",
            "77/77 [==============================] - 0s 3ms/step - loss: 0.6031 - accuracy: 0.6615\n",
            "Epoch 7/20\n",
            "60/77 [======================>.......] - ETA: 0s - loss: 0.5864 - accuracy: 0.6733\n",
            "Epoch 7: loss improved from 0.60305 to 0.58008, saving model to /content/drive/MyDrive/Colab Notebooks/model/model.h5\n",
            "77/77 [==============================] - 0s 3ms/step - loss: 0.5801 - accuracy: 0.6862\n",
            "Epoch 8/20\n",
            "70/77 [==========================>...] - ETA: 0s - loss: 0.5625 - accuracy: 0.6986\n",
            "Epoch 8: loss improved from 0.58008 to 0.56224, saving model to /content/drive/MyDrive/Colab Notebooks/model/model.h5\n",
            "77/77 [==============================] - 0s 3ms/step - loss: 0.5622 - accuracy: 0.6966\n",
            "Epoch 9/20\n",
            "77/77 [==============================] - ETA: 0s - loss: 0.5462 - accuracy: 0.7070\n",
            "Epoch 9: loss improved from 0.56224 to 0.54618, saving model to /content/drive/MyDrive/Colab Notebooks/model/model.h5\n",
            "77/77 [==============================] - 0s 3ms/step - loss: 0.5462 - accuracy: 0.7070\n",
            "Epoch 10/20\n",
            "69/77 [=========================>....] - ETA: 0s - loss: 0.5341 - accuracy: 0.7101\n",
            "Epoch 10: loss improved from 0.54618 to 0.53084, saving model to /content/drive/MyDrive/Colab Notebooks/model/model.h5\n",
            "77/77 [==============================] - 0s 3ms/step - loss: 0.5308 - accuracy: 0.7188\n",
            "Epoch 11/20\n",
            "77/77 [==============================] - ETA: 0s - loss: 0.5203 - accuracy: 0.7292\n",
            "Epoch 11: loss improved from 0.53084 to 0.52034, saving model to /content/drive/MyDrive/Colab Notebooks/model/model.h5\n",
            "77/77 [==============================] - 0s 3ms/step - loss: 0.5203 - accuracy: 0.7292\n",
            "Epoch 12/20\n",
            "75/77 [============================>.] - ETA: 0s - loss: 0.5083 - accuracy: 0.7387\n",
            "Epoch 12: loss improved from 0.52034 to 0.50727, saving model to /content/drive/MyDrive/Colab Notebooks/model/model.h5\n",
            "77/77 [==============================] - 0s 3ms/step - loss: 0.5073 - accuracy: 0.7383\n",
            "Epoch 13/20\n",
            "73/77 [===========================>..] - ETA: 0s - loss: 0.4965 - accuracy: 0.7548\n",
            "Epoch 13: loss improved from 0.50727 to 0.49979, saving model to /content/drive/MyDrive/Colab Notebooks/model/model.h5\n",
            "77/77 [==============================] - 0s 3ms/step - loss: 0.4998 - accuracy: 0.7513\n",
            "Epoch 14/20\n",
            "70/77 [==========================>...] - ETA: 0s - loss: 0.4862 - accuracy: 0.7671\n",
            "Epoch 14: loss improved from 0.49979 to 0.48940, saving model to /content/drive/MyDrive/Colab Notebooks/model/model.h5\n",
            "77/77 [==============================] - 0s 3ms/step - loss: 0.4894 - accuracy: 0.7656\n",
            "Epoch 15/20\n",
            "76/77 [============================>.] - ETA: 0s - loss: 0.4845 - accuracy: 0.7697\n",
            "Epoch 15: loss improved from 0.48940 to 0.48596, saving model to /content/drive/MyDrive/Colab Notebooks/model/model.h5\n",
            "77/77 [==============================] - 0s 3ms/step - loss: 0.4860 - accuracy: 0.7669\n",
            "Epoch 16/20\n",
            "73/77 [===========================>..] - ETA: 0s - loss: 0.4810 - accuracy: 0.7685\n",
            "Epoch 16: loss improved from 0.48596 to 0.47874, saving model to /content/drive/MyDrive/Colab Notebooks/model/model.h5\n",
            "77/77 [==============================] - 0s 3ms/step - loss: 0.4787 - accuracy: 0.7721\n",
            "Epoch 17/20\n",
            "77/77 [==============================] - ETA: 0s - loss: 0.4724 - accuracy: 0.7747\n",
            "Epoch 17: loss improved from 0.47874 to 0.47239, saving model to /content/drive/MyDrive/Colab Notebooks/model/model.h5\n",
            "77/77 [==============================] - 0s 3ms/step - loss: 0.4724 - accuracy: 0.7747\n",
            "Epoch 18/20\n",
            "74/77 [===========================>..] - ETA: 0s - loss: 0.4704 - accuracy: 0.7676\n",
            "Epoch 18: loss improved from 0.47239 to 0.46915, saving model to /content/drive/MyDrive/Colab Notebooks/model/model.h5\n",
            "77/77 [==============================] - 0s 3ms/step - loss: 0.4691 - accuracy: 0.7682\n",
            "Epoch 19/20\n",
            "75/77 [============================>.] - ETA: 0s - loss: 0.4642 - accuracy: 0.7827\n",
            "Epoch 19: loss improved from 0.46915 to 0.46826, saving model to /content/drive/MyDrive/Colab Notebooks/model/model.h5\n",
            "77/77 [==============================] - 0s 3ms/step - loss: 0.4683 - accuracy: 0.7799\n",
            "Epoch 20/20\n",
            "71/77 [==========================>...] - ETA: 0s - loss: 0.4548 - accuracy: 0.7845\n",
            "Epoch 20: loss improved from 0.46826 to 0.46458, saving model to /content/drive/MyDrive/Colab Notebooks/model/model.h5\n",
            "77/77 [==============================] - 0s 3ms/step - loss: 0.4646 - accuracy: 0.7786\n"
          ]
        },
        {
          "output_type": "execute_result",
          "data": {
            "text/plain": [
              "<keras.callbacks.History at 0x7f69f01da130>"
            ]
          },
          "metadata": {},
          "execution_count": 12
        }
      ]
    }
  ]
}